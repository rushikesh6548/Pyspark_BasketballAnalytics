{
  "nbformat": 4,
  "nbformat_minor": 0,
  "metadata": {
    "colab": {
      "provenance": [],
      "collapsed_sections": []
    },
    "kernelspec": {
      "name": "python3",
      "display_name": "Python 3"
    },
    "language_info": {
      "name": "python"
    }
  },
  "cells": [
    {
      "cell_type": "markdown",
      "source": [
        "## Sports Analytics Using Pyspark sql and Mllib "
      ],
      "metadata": {
        "id": "TLSp3ZEjiyf6"
      }
    },
    {
      "cell_type": "markdown",
      "source": [
        "We will be working on a dataset that contains nba players information on various scoring styles such as how many points they scored based on year ,how they scored their points , impact they had ,.etc \n",
        "\n"
      ],
      "metadata": {
        "id": "EwWjAsxzi4rU"
      }
    },
    {
      "cell_type": "markdown",
      "source": [
        "## Creating a Spark Session \n"
      ],
      "metadata": {
        "id": "XZiEQyPLD0cz"
      }
    },
    {
      "cell_type": "code",
      "source": [
        "!pip install pyspark\n",
        "from pyspark.sql import SparkSession\n"
      ],
      "metadata": {
        "colab": {
          "base_uri": "https://localhost:8080/"
        },
        "id": "-WrFT88cD2iE",
        "outputId": "9b44b71a-a34e-4a9c-8f34-41467cbde7d3"
      },
      "execution_count": null,
      "outputs": [
        {
          "output_type": "stream",
          "name": "stdout",
          "text": [
            "Looking in indexes: https://pypi.org/simple, https://us-python.pkg.dev/colab-wheels/public/simple/\n",
            "Requirement already satisfied: pyspark in /usr/local/lib/python3.7/dist-packages (3.3.0)\n",
            "Requirement already satisfied: py4j==0.10.9.5 in /usr/local/lib/python3.7/dist-packages (from pyspark) (0.10.9.5)\n"
          ]
        }
      ]
    },
    {
      "cell_type": "code",
      "source": [
        "from pyspark.sql import SparkSession"
      ],
      "metadata": {
        "id": "ocZ6AYa5D_-0"
      },
      "execution_count": null,
      "outputs": []
    },
    {
      "cell_type": "code",
      "source": [
        "spark=SparkSession.builder.appName('SportsDataAnalyticsSpark').getOrCreate()"
      ],
      "metadata": {
        "id": "9mjPWtK_E2y6"
      },
      "execution_count": null,
      "outputs": []
    },
    {
      "cell_type": "code",
      "source": [
        "spark"
      ],
      "metadata": {
        "colab": {
          "base_uri": "https://localhost:8080/",
          "height": 219
        },
        "id": "0LHvjrQwE6jj",
        "outputId": "9bd439df-d1ca-47df-ceb6-a84582e51da8"
      },
      "execution_count": null,
      "outputs": [
        {
          "output_type": "execute_result",
          "data": {
            "text/plain": [
              "<pyspark.sql.session.SparkSession at 0x7febbac2db90>"
            ],
            "text/html": [
              "\n",
              "            <div>\n",
              "                <p><b>SparkSession - in-memory</b></p>\n",
              "                \n",
              "        <div>\n",
              "            <p><b>SparkContext</b></p>\n",
              "\n",
              "            <p><a href=\"http://39bfba6f38d4:4040\">Spark UI</a></p>\n",
              "\n",
              "            <dl>\n",
              "              <dt>Version</dt>\n",
              "                <dd><code>v3.3.0</code></dd>\n",
              "              <dt>Master</dt>\n",
              "                <dd><code>local[*]</code></dd>\n",
              "              <dt>AppName</dt>\n",
              "                <dd><code>SportsDataAnalyticsSpark</code></dd>\n",
              "            </dl>\n",
              "        </div>\n",
              "        \n",
              "            </div>\n",
              "        "
            ]
          },
          "metadata": {},
          "execution_count": 4
        }
      ]
    },
    {
      "cell_type": "markdown",
      "source": [
        "## Importing Necessary Libaries "
      ],
      "metadata": {
        "id": "GSfU6mgdFAj_"
      }
    },
    {
      "cell_type": "code",
      "source": [
        "import numpy as np\n",
        "import pandas as pd\n",
        "import seaborn as sns\n",
        "\n",
        "\n",
        "from nba_utils import draw_3pt_piechart,plot_shot_chart\n",
        "\n",
        "from IPython.core.display import display, HTML\n",
        "from IPython.core.magic import register_cell_magic, register_line_cell_magic, register_line_magic\n",
        "from matplotlib import pyplot as plt\n",
        "from pyspark.ml.regression import LinearRegression\n",
        "from pyspark.ml.feature import VectorAssembler\n",
        "from pyspark.ml.linalg import Vector\n",
        "from pyspark.sql import SQLContext\n",
        "from pyspark.sql.functions import array, col, count, mean, sum, udf, when\n",
        "from pyspark.sql.types import DoubleType, IntegerType, StringType, Row\n",
        "from pyspark.sql.functions import sum, col, udf\n"
      ],
      "metadata": {
        "id": "jEKg-YQNFDD7"
      },
      "execution_count": null,
      "outputs": []
    },
    {
      "cell_type": "markdown",
      "source": [
        "Creating a Spark Datafrom from The data "
      ],
      "metadata": {
        "id": "0oU44ZnWFsV-"
      }
    },
    {
      "cell_type": "code",
      "source": [
        "df = spark.read.option('header','true')\\\n",
        "          .option('inferSchema','true')\\\n",
        "          .csv('season_totals.csv')"
      ],
      "metadata": {
        "id": "psnHLz0EFG-z"
      },
      "execution_count": null,
      "outputs": []
    },
    {
      "cell_type": "markdown",
      "source": [
        "# Information about the data : \n",
        "\n",
        "\n"
      ],
      "metadata": {
        "id": "wV22LcNiGwwe"
      }
    },
    {
      "cell_type": "code",
      "source": [
        "df.printSchema()"
      ],
      "metadata": {
        "colab": {
          "base_uri": "https://localhost:8080/"
        },
        "id": "JfZknSkJF8MC",
        "outputId": "f43635f0-d4ab-4a36-fe07-4556a1d0ea04"
      },
      "execution_count": null,
      "outputs": [
        {
          "output_type": "stream",
          "name": "stdout",
          "text": [
            "root\n",
            " |-- _c0: integer (nullable = true)\n",
            " |-- player: string (nullable = true)\n",
            " |-- pos: string (nullable = true)\n",
            " |-- age: integer (nullable = true)\n",
            " |-- team_id: string (nullable = true)\n",
            " |-- g: integer (nullable = true)\n",
            " |-- gs: integer (nullable = true)\n",
            " |-- mp: integer (nullable = true)\n",
            " |-- fg: integer (nullable = true)\n",
            " |-- fga: integer (nullable = true)\n",
            " |-- fg_pct: double (nullable = true)\n",
            " |-- fg3: integer (nullable = true)\n",
            " |-- fg3a: integer (nullable = true)\n",
            " |-- fg3_pct: double (nullable = true)\n",
            " |-- fg2: integer (nullable = true)\n",
            " |-- fg2a: integer (nullable = true)\n",
            " |-- fg2_pct: double (nullable = true)\n",
            " |-- efg_pct: double (nullable = true)\n",
            " |-- ft: integer (nullable = true)\n",
            " |-- fta: integer (nullable = true)\n",
            " |-- ft_pct: double (nullable = true)\n",
            " |-- orb: integer (nullable = true)\n",
            " |-- drb: integer (nullable = true)\n",
            " |-- trb: integer (nullable = true)\n",
            " |-- ast: integer (nullable = true)\n",
            " |-- stl: integer (nullable = true)\n",
            " |-- blk: integer (nullable = true)\n",
            " |-- tov: integer (nullable = true)\n",
            " |-- pf: integer (nullable = true)\n",
            " |-- pts: integer (nullable = true)\n",
            " |-- yr: integer (nullable = true)\n",
            "\n"
          ]
        }
      ]
    },
    {
      "cell_type": "markdown",
      "source": [
        "## Description of the features : \n",
        "\n",
        "---\n",
        "mp - Minutes Played \n",
        "\n",
        "---\n",
        "\n",
        "fg -  a field goal is a basket scored on any shot or tap other than a free throw, worth two or three depending on the distanc of the throw \n",
        "\n",
        "---\n",
        "g - No of Games A player has played \n",
        "\n",
        "---\n",
        "gs - no of games started \n",
        "\n",
        "---\n",
        "\n",
        "\n",
        "efg_pct - effective field goal percentage\n",
        "\n",
        "---\n",
        "\n",
        "ft - number of free throws \n"
      ],
      "metadata": {
        "id": "icuffOztL8dJ"
      }
    },
    {
      "cell_type": "markdown",
      "source": [
        "Dropping Null Values of the data \n"
      ],
      "metadata": {
        "id": "NtYYgtJvEgy4"
      }
    },
    {
      "cell_type": "code",
      "source": [
        "df = df.na.drop()"
      ],
      "metadata": {
        "id": "AXTyWbtJElLa"
      },
      "execution_count": null,
      "outputs": []
    },
    {
      "cell_type": "code",
      "source": [
        "df.show()"
      ],
      "metadata": {
        "colab": {
          "base_uri": "https://localhost:8080/"
        },
        "id": "9rmcS39RHCJ5",
        "outputId": "b31a00b5-e8c8-405d-c88a-ef69f2cf3741"
      },
      "execution_count": null,
      "outputs": [
        {
          "output_type": "stream",
          "name": "stdout",
          "text": [
            "+---+----------------+-----+---+-------+---+---+----+---+----+------+---+----+-------+---+----+-------+-------+---+---+------+---+---+---+---+---+---+---+---+----+----+\n",
            "|_c0|          player|  pos|age|team_id|  g| gs|  mp| fg| fga|fg_pct|fg3|fg3a|fg3_pct|fg2|fg2a|fg2_pct|efg_pct| ft|fta|ft_pct|orb|drb|trb|ast|stl|blk|tov| pf| pts|  yr|\n",
            "+---+----------------+-----+---+-------+---+---+----+---+----+------+---+----+-------+---+----+-------+-------+---+---+------+---+---+---+---+---+---+---+---+----+----+\n",
            "|  3|  Archibald,Tiny|   PG| 31|    BOS| 80| 80|2864|383| 794| 0.482|  4|  18|  0.222|379| 776|  0.488|  0.485|361|435|  0.83| 59|138|197|671|106| 10|242|218|1131|1980|\n",
            "| 21|      Bird,Larry|   PF| 23|    BOS| 82| 82|2955|693|1463| 0.474| 58| 143|  0.406|635|1320|  0.481|  0.494|301|360| 0.836|216|636|852|370|143| 53|263|279|1745|1980|\n",
            "| 54|       Carr,M.L.|   SF| 29|    BOS| 82|  7|1994|362| 763| 0.474| 12|  41|  0.293|350| 722|  0.485|  0.482|178|241| 0.739|106|224|330|156|120| 36|143|214| 914|1980|\n",
            "| 59|      Chaney,Don|   SG| 33|    BOS| 60|  0| 523| 67| 189| 0.354|  1|   6|  0.167| 66| 183|  0.361|  0.357| 32| 42| 0.762| 31| 42| 73| 38| 31| 11| 33| 80| 167|1980|\n",
            "| 75|     Cowens,Dave|    C| 31|    BOS| 66| 55|2159|422| 932| 0.453|  1|  12|  0.083|421| 920|  0.458|  0.453| 95|122| 0.779|126|408|534|206| 69| 61|108|216| 940|1980|\n",
            "|108|      Ford,Chris|   SG| 31|    BOS| 73| 73|2115|330| 709| 0.465| 70| 164|  0.427|260| 545|  0.477|  0.515| 86|114| 0.754| 77|104|181|215|111| 27|105|178| 816|1980|\n",
            "|140|Henderson,Gerald|   PG| 24|    BOS| 76|  2|1061|191| 382|   0.5|  2|   6|  0.333|189| 376|  0.503|  0.503| 89|129|  0.69| 37| 46| 83|147| 45| 15|109| 96| 473|1980|\n",
            "|174|    Judkins,Jeff|   SF| 23|    BOS| 65|  0| 674|139| 276| 0.504| 11|  27|  0.407|128| 249|  0.514|  0.524| 62| 76| 0.816| 32| 34| 66| 47| 29|  5| 49| 91| 351|1980|\n",
            "|220|   Maravich,Pete|   SG| 32|    TOT| 43|  4| 964|244| 543| 0.449| 10|  15|  0.667|234| 528|  0.443|  0.459| 91|105| 0.867| 17| 61| 78| 83| 24|  6| 82| 79| 589|1980|\n",
            "|222|   Maravich,Pete|   SG| 32|    BOS| 26|  4| 442|123| 249| 0.494|  3|   4|   0.75|120| 245|   0.49|    0.5| 50| 55| 0.909| 10| 28| 38| 29|  9|  2| 37| 49| 299|1980|\n",
            "|277|      Robey,Rick|    C| 24|    BOS| 82| 27|1918|379| 727| 0.521|  0|   1|    0.0|379| 726|  0.522|  0.521|184|269| 0.684|209|321|530| 92| 53| 15|151|244| 942|1980|\n",
            "|  6|  Archibald,Tiny|   PG| 32|    BOS| 80| 72|2820|382| 766| 0.499|  0|   9|    0.0|382| 757|  0.505|  0.499|342|419| 0.816| 36|140|176|618| 75| 18|265|201|1106|1981|\n",
            "| 15|      Bird,Larry|   PF| 24|    BOS| 82| 82|3239|719|1503| 0.478| 20|  74|   0.27|699|1429|  0.489|  0.485|283|328| 0.863|191|704|895|451|161| 63|289|239|1741|1981|\n",
            "| 43|       Carr,M.L.|   SF| 30|    BOS| 41|  7| 655| 97| 216| 0.449|  1|  14|  0.071| 96| 202|  0.475|  0.451| 53| 67| 0.791| 26| 57| 83| 56| 30| 18| 47| 74| 248|1981|\n",
            "| 84|    Duerod,Terry|SG-SF| 24|    TOT| 50|  0| 451|104| 234| 0.444|  8|  16|    0.5| 96| 218|   0.44|  0.462| 31| 41| 0.756| 17| 27| 44| 36| 17|  4| 35| 27| 247|1981|\n",
            "| 86|    Duerod,Terry|   SG| 24|    BOS| 32|  0| 114| 30|  73| 0.411|  6|  10|    0.6| 24|  63|  0.381|  0.452| 13| 14| 0.929|  2|  3|  5|  6|  5|  0| 10|  8|  79|1981|\n",
            "| 97|      Ford,Chris|   SG| 32|    BOS| 82| 75|2723|314| 707| 0.444| 36| 109|   0.33|278| 598|  0.465|   0.47| 64| 87| 0.736| 72| 91|163|295|100| 23|127|212| 728|1981|\n",
            "|132|Henderson,Gerald|   PG| 25|    BOS| 82| 10|1608|261| 579| 0.451|  1|  16|  0.063|260| 563|  0.462|  0.452|113|157|  0.72| 43| 89|132|213| 79| 12|160|177| 636|1981|\n",
            "|189|   Kreklow,Wayne|   SG| 24|    BOS| 25|  0| 100| 11|  47| 0.234|  1|   4|   0.25| 10|  43|  0.233|  0.245|  7| 10|   0.7|  2| 10| 12|  9|  2|  1| 10| 20|  30|1981|\n",
            "|217|  Maxwell,Cedric|   SF| 25|    BOS| 81| 81|2730|441| 750| 0.588|  0|   1|    0.0|441| 749|  0.589|  0.588|352|450| 0.782|222|303|525|219| 79| 68|180|256|1234|1981|\n",
            "+---+----------------+-----+---+-------+---+---+----+---+----+------+---+----+-------+---+----+-------+-------+---+---+------+---+---+---+---+---+---+---+---+----+----+\n",
            "only showing top 20 rows\n",
            "\n"
          ]
        }
      ]
    },
    {
      "cell_type": "markdown",
      "source": [
        "## Using spark Sql : "
      ],
      "metadata": {
        "id": "vWQwDpVakDvx"
      }
    },
    {
      "cell_type": "code",
      "source": [
        "# Creating Table Using Sql \n",
        "df.registerTempTable('SeasonsTable')\n",
        "sqlContext = SQLContext(spark)\n",
        "\n",
        "# Running Query : \n",
        "df1 = sqlContext.sql(\"SELECT * FROM SeasonsTable\").toPandas()\n",
        "df2 = sqlContext.sql(\"SELECT player As Player_Name,mp as Minutes_Played FROM SeasonsTable where mp > 1500\").toPandas()"
      ],
      "metadata": {
        "colab": {
          "base_uri": "https://localhost:8080/"
        },
        "id": "fH8nkbREHDbB",
        "outputId": "10b68893-b39b-4b27-d602-e22769012f3a"
      },
      "execution_count": null,
      "outputs": [
        {
          "output_type": "stream",
          "name": "stderr",
          "text": [
            "/usr/local/lib/python3.7/dist-packages/pyspark/sql/dataframe.py:229: FutureWarning: Deprecated in 2.0, use createOrReplaceTempView instead.\n",
            "  warnings.warn(\"Deprecated in 2.0, use createOrReplaceTempView instead.\", FutureWarning)\n",
            "/usr/local/lib/python3.7/dist-packages/pyspark/sql/context.py:114: FutureWarning: Deprecated in 3.0.0. Use SparkSession.builder.getOrCreate() instead.\n",
            "  FutureWarning,\n"
          ]
        }
      ]
    },
    {
      "cell_type": "code",
      "source": [
        "df2"
      ],
      "metadata": {
        "colab": {
          "base_uri": "https://localhost:8080/",
          "height": 424
        },
        "id": "xDIeFwetI7LZ",
        "outputId": "3045960f-6469-400d-b1de-f79c6181517a"
      },
      "execution_count": null,
      "outputs": [
        {
          "output_type": "execute_result",
          "data": {
            "text/plain": [
              "          Player_Name  Minutes_Played\n",
              "0      Archibald,Tiny            2864\n",
              "1          Bird,Larry            2955\n",
              "2           Carr,M.L.            1994\n",
              "3         Cowens,Dave            2159\n",
              "4          Ford,Chris            2115\n",
              "...               ...             ...\n",
              "5838     Williams,Lou            1907\n",
              "5839  Williams,Marvin            2338\n",
              "5840  Winslow,Justise            2232\n",
              "5841   Young,Thaddeus            2407\n",
              "5842      Zeller,Cody            1774\n",
              "\n",
              "[5843 rows x 2 columns]"
            ],
            "text/html": [
              "\n",
              "  <div id=\"df-81b0ce21-82aa-4e90-8e1e-136230d516b5\">\n",
              "    <div class=\"colab-df-container\">\n",
              "      <div>\n",
              "<style scoped>\n",
              "    .dataframe tbody tr th:only-of-type {\n",
              "        vertical-align: middle;\n",
              "    }\n",
              "\n",
              "    .dataframe tbody tr th {\n",
              "        vertical-align: top;\n",
              "    }\n",
              "\n",
              "    .dataframe thead th {\n",
              "        text-align: right;\n",
              "    }\n",
              "</style>\n",
              "<table border=\"1\" class=\"dataframe\">\n",
              "  <thead>\n",
              "    <tr style=\"text-align: right;\">\n",
              "      <th></th>\n",
              "      <th>Player_Name</th>\n",
              "      <th>Minutes_Played</th>\n",
              "    </tr>\n",
              "  </thead>\n",
              "  <tbody>\n",
              "    <tr>\n",
              "      <th>0</th>\n",
              "      <td>Archibald,Tiny</td>\n",
              "      <td>2864</td>\n",
              "    </tr>\n",
              "    <tr>\n",
              "      <th>1</th>\n",
              "      <td>Bird,Larry</td>\n",
              "      <td>2955</td>\n",
              "    </tr>\n",
              "    <tr>\n",
              "      <th>2</th>\n",
              "      <td>Carr,M.L.</td>\n",
              "      <td>1994</td>\n",
              "    </tr>\n",
              "    <tr>\n",
              "      <th>3</th>\n",
              "      <td>Cowens,Dave</td>\n",
              "      <td>2159</td>\n",
              "    </tr>\n",
              "    <tr>\n",
              "      <th>4</th>\n",
              "      <td>Ford,Chris</td>\n",
              "      <td>2115</td>\n",
              "    </tr>\n",
              "    <tr>\n",
              "      <th>...</th>\n",
              "      <td>...</td>\n",
              "      <td>...</td>\n",
              "    </tr>\n",
              "    <tr>\n",
              "      <th>5838</th>\n",
              "      <td>Williams,Lou</td>\n",
              "      <td>1907</td>\n",
              "    </tr>\n",
              "    <tr>\n",
              "      <th>5839</th>\n",
              "      <td>Williams,Marvin</td>\n",
              "      <td>2338</td>\n",
              "    </tr>\n",
              "    <tr>\n",
              "      <th>5840</th>\n",
              "      <td>Winslow,Justise</td>\n",
              "      <td>2232</td>\n",
              "    </tr>\n",
              "    <tr>\n",
              "      <th>5841</th>\n",
              "      <td>Young,Thaddeus</td>\n",
              "      <td>2407</td>\n",
              "    </tr>\n",
              "    <tr>\n",
              "      <th>5842</th>\n",
              "      <td>Zeller,Cody</td>\n",
              "      <td>1774</td>\n",
              "    </tr>\n",
              "  </tbody>\n",
              "</table>\n",
              "<p>5843 rows × 2 columns</p>\n",
              "</div>\n",
              "      <button class=\"colab-df-convert\" onclick=\"convertToInteractive('df-81b0ce21-82aa-4e90-8e1e-136230d516b5')\"\n",
              "              title=\"Convert this dataframe to an interactive table.\"\n",
              "              style=\"display:none;\">\n",
              "        \n",
              "  <svg xmlns=\"http://www.w3.org/2000/svg\" height=\"24px\"viewBox=\"0 0 24 24\"\n",
              "       width=\"24px\">\n",
              "    <path d=\"M0 0h24v24H0V0z\" fill=\"none\"/>\n",
              "    <path d=\"M18.56 5.44l.94 2.06.94-2.06 2.06-.94-2.06-.94-.94-2.06-.94 2.06-2.06.94zm-11 1L8.5 8.5l.94-2.06 2.06-.94-2.06-.94L8.5 2.5l-.94 2.06-2.06.94zm10 10l.94 2.06.94-2.06 2.06-.94-2.06-.94-.94-2.06-.94 2.06-2.06.94z\"/><path d=\"M17.41 7.96l-1.37-1.37c-.4-.4-.92-.59-1.43-.59-.52 0-1.04.2-1.43.59L10.3 9.45l-7.72 7.72c-.78.78-.78 2.05 0 2.83L4 21.41c.39.39.9.59 1.41.59.51 0 1.02-.2 1.41-.59l7.78-7.78 2.81-2.81c.8-.78.8-2.07 0-2.86zM5.41 20L4 18.59l7.72-7.72 1.47 1.35L5.41 20z\"/>\n",
              "  </svg>\n",
              "      </button>\n",
              "      \n",
              "  <style>\n",
              "    .colab-df-container {\n",
              "      display:flex;\n",
              "      flex-wrap:wrap;\n",
              "      gap: 12px;\n",
              "    }\n",
              "\n",
              "    .colab-df-convert {\n",
              "      background-color: #E8F0FE;\n",
              "      border: none;\n",
              "      border-radius: 50%;\n",
              "      cursor: pointer;\n",
              "      display: none;\n",
              "      fill: #1967D2;\n",
              "      height: 32px;\n",
              "      padding: 0 0 0 0;\n",
              "      width: 32px;\n",
              "    }\n",
              "\n",
              "    .colab-df-convert:hover {\n",
              "      background-color: #E2EBFA;\n",
              "      box-shadow: 0px 1px 2px rgba(60, 64, 67, 0.3), 0px 1px 3px 1px rgba(60, 64, 67, 0.15);\n",
              "      fill: #174EA6;\n",
              "    }\n",
              "\n",
              "    [theme=dark] .colab-df-convert {\n",
              "      background-color: #3B4455;\n",
              "      fill: #D2E3FC;\n",
              "    }\n",
              "\n",
              "    [theme=dark] .colab-df-convert:hover {\n",
              "      background-color: #434B5C;\n",
              "      box-shadow: 0px 1px 3px 1px rgba(0, 0, 0, 0.15);\n",
              "      filter: drop-shadow(0px 1px 2px rgba(0, 0, 0, 0.3));\n",
              "      fill: #FFFFFF;\n",
              "    }\n",
              "  </style>\n",
              "\n",
              "      <script>\n",
              "        const buttonEl =\n",
              "          document.querySelector('#df-81b0ce21-82aa-4e90-8e1e-136230d516b5 button.colab-df-convert');\n",
              "        buttonEl.style.display =\n",
              "          google.colab.kernel.accessAllowed ? 'block' : 'none';\n",
              "\n",
              "        async function convertToInteractive(key) {\n",
              "          const element = document.querySelector('#df-81b0ce21-82aa-4e90-8e1e-136230d516b5');\n",
              "          const dataTable =\n",
              "            await google.colab.kernel.invokeFunction('convertToInteractive',\n",
              "                                                     [key], {});\n",
              "          if (!dataTable) return;\n",
              "\n",
              "          const docLinkHtml = 'Like what you see? Visit the ' +\n",
              "            '<a target=\"_blank\" href=https://colab.research.google.com/notebooks/data_table.ipynb>data table notebook</a>'\n",
              "            + ' to learn more about interactive tables.';\n",
              "          element.innerHTML = '';\n",
              "          dataTable['output_type'] = 'display_data';\n",
              "          await google.colab.output.renderOutput(dataTable, element);\n",
              "          const docLink = document.createElement('div');\n",
              "          docLink.innerHTML = docLinkHtml;\n",
              "          element.appendChild(docLink);\n",
              "        }\n",
              "      </script>\n",
              "    </div>\n",
              "  </div>\n",
              "  "
            ]
          },
          "metadata": {},
          "execution_count": 11
        }
      ]
    },
    {
      "cell_type": "markdown",
      "source": [
        "# Data Visualizaion \n"
      ],
      "metadata": {
        "id": "yc9-MVK4gT1z"
      }
    },
    {
      "cell_type": "code",
      "source": [
        "# Visualising some variables relations \n",
        "\n",
        "df3 = sqlContext.sql(\"SELECT ft,pts from SeasonsTable\").toPandas()\n",
        "fig = plt.figure()\n",
        "ax = fig.add_axes([0,0,1,1])\n",
        "ax.scatter(df3['ft'],df3['pts'],color = 'r')\n",
        "ax.set_xlabel('Free Throws')\n",
        "ax.set_ylabel('Total Points')\n",
        "ax.set_title(\"Scatter Plot\")\n",
        "plt.title(\"Free Throws  VS Total Points\")"
      ],
      "metadata": {
        "colab": {
          "base_uri": "https://localhost:8080/",
          "height": 383
        },
        "id": "VdEBwCCcJkAJ",
        "outputId": "b9283830-fe88-4372-b84b-e96a9daca488"
      },
      "execution_count": null,
      "outputs": [
        {
          "output_type": "execute_result",
          "data": {
            "text/plain": [
              "Text(0.5, 1.0, 'Free Throws  VS Total Points')"
            ]
          },
          "metadata": {},
          "execution_count": 12
        },
        {
          "output_type": "display_data",
          "data": {
            "text/plain": [
              "<Figure size 432x288 with 1 Axes>"
            ],
            "image/png": "[encoded data removed]"
          },
          "metadata": {}
        }
      ]
    },
    {
      "cell_type": "markdown",
      "source": [
        "Free throws for players whose points scored are greater than 2000 : \n"
      ],
      "metadata": {
        "id": "2-X1UZojgte_"
      }
    },
    {
      "cell_type": "code",
      "source": [
        "df3 = sqlContext.sql(\"SELECT ft,pts from SeasonsTable Where pts > 2000\").toPandas()\n",
        "fig = plt.figure()\n",
        "ax = fig.add_axes([0,0,1,1])\n",
        "ax.scatter(df3['ft'],df3['pts'],color = 'r')\n",
        "ax.set_xlabel('Free Throws')\n",
        "ax.set_ylabel('Total Points')\n",
        "ax.set_title(\"Scatter Plot\")\n",
        "plt.title(\"Free Throws  VS Total Points\")"
      ],
      "metadata": {
        "colab": {
          "base_uri": "https://localhost:8080/",
          "height": 383
        },
        "id": "N66_W_rJLLnf",
        "outputId": "2c97ce5f-6b90-4b7d-8b2d-45f8bd1cde80"
      },
      "execution_count": null,
      "outputs": [
        {
          "output_type": "execute_result",
          "data": {
            "text/plain": [
              "Text(0.5, 1.0, 'Free Throws  VS Total Points')"
            ]
          },
          "metadata": {},
          "execution_count": 13
        },
        {
          "output_type": "display_data",
          "data": {
            "text/plain": [
              "<Figure size 432x288 with 1 Axes>"
            ],
            "image/png": "[encoded data removed]"
          },
          "metadata": {}
        }
      ]
    },
    {
      "cell_type": "code",
      "source": [
        "#3d Scatter Plot\n",
        "df4 = sqlContext.sql(\"SELECT mp, fg,pts from SeasonsTable Limit 50\").toPandas()\n"
      ],
      "metadata": {
        "id": "kyWHEe5jNvEm"
      },
      "execution_count": null,
      "outputs": []
    },
    {
      "cell_type": "code",
      "source": [
        "fig = plt.figure()\n",
        "ax = plt.axes(projection='3d')\n",
        "ax.scatter(df4['mp'], df4['fg'], df4['pts'] )\n",
        "ax.set_title(\"Minutes Played vs Field Goals vs Total Points\")\n",
        "plt.show()"
      ],
      "metadata": {
        "colab": {
          "base_uri": "https://localhost:8080/",
          "height": 248
        },
        "id": "8TAg3dbHPo0e",
        "outputId": "28d52372-6153-4921-8c2a-84ec4e869053"
      },
      "execution_count": null,
      "outputs": [
        {
          "output_type": "display_data",
          "data": {
            "text/plain": [
              "<Figure size 432x288 with 1 Axes>"
            ],
            "image/png": "[encoded data removed]"
          },
          "metadata": {}
        }
      ]
    },
    {
      "cell_type": "code",
      "source": [
        "# Visualising without using Sql Context \n",
        "df.orderBy('pts',ascending = False).limit(10).toPandas()[['yr','player','age','pts','fg3']]"
      ],
      "metadata": {
        "colab": {
          "base_uri": "https://localhost:8080/",
          "height": 363
        },
        "id": "g8ICyDX9Qk5T",
        "outputId": "28f9bece-f8fb-4ff1-9bd9-50de649c9e0b"
      },
      "execution_count": null,
      "outputs": [
        {
          "output_type": "execute_result",
          "data": {
            "text/plain": [
              "     yr          player  age   pts  fg3\n",
              "0  1987  Jordan,Michael   23  3041   12\n",
              "1  1988  Jordan,Michael   24  2868    7\n",
              "2  2006     Bryant,Kobe   27  2832  180\n",
              "3  1990  Jordan,Michael   26  2753   92\n",
              "4  1989  Jordan,Michael   25  2633   27\n",
              "5  2014    Durant,Kevin   25  2593  192\n",
              "6  1991  Jordan,Michael   27  2580   29\n",
              "7  1982   Gervin,George   29  2551   10\n",
              "8  1993  Jordan,Michael   29  2541   81\n",
              "9  1990     Malone,Karl   26  2540   16"
            ],
            "text/html": [
              "\n",
              "  <div id=\"df-f854fd4c-c40e-4971-a285-2eb116dbd5a9\">\n",
              "    <div class=\"colab-df-container\">\n",
              "      <div>\n",
              "<style scoped>\n",
              "    .dataframe tbody tr th:only-of-type {\n",
              "        vertical-align: middle;\n",
              "    }\n",
              "\n",
              "    .dataframe tbody tr th {\n",
              "        vertical-align: top;\n",
              "    }\n",
              "\n",
              "    .dataframe thead th {\n",
              "        text-align: right;\n",
              "    }\n",
              "</style>\n",
              "<table border=\"1\" class=\"dataframe\">\n",
              "  <thead>\n",
              "    <tr style=\"text-align: right;\">\n",
              "      <th></th>\n",
              "      <th>yr</th>\n",
              "      <th>player</th>\n",
              "      <th>age</th>\n",
              "      <th>pts</th>\n",
              "      <th>fg3</th>\n",
              "    </tr>\n",
              "  </thead>\n",
              "  <tbody>\n",
              "    <tr>\n",
              "      <th>0</th>\n",
              "      <td>1987</td>\n",
              "      <td>Jordan,Michael</td>\n",
              "      <td>23</td>\n",
              "      <td>3041</td>\n",
              "      <td>12</td>\n",
              "    </tr>\n",
              "    <tr>\n",
              "      <th>1</th>\n",
              "      <td>1988</td>\n",
              "      <td>Jordan,Michael</td>\n",
              "      <td>24</td>\n",
              "      <td>2868</td>\n",
              "      <td>7</td>\n",
              "    </tr>\n",
              "    <tr>\n",
              "      <th>2</th>\n",
              "      <td>2006</td>\n",
              "      <td>Bryant,Kobe</td>\n",
              "      <td>27</td>\n",
              "      <td>2832</td>\n",
              "      <td>180</td>\n",
              "    </tr>\n",
              "    <tr>\n",
              "      <th>3</th>\n",
              "      <td>1990</td>\n",
              "      <td>Jordan,Michael</td>\n",
              "      <td>26</td>\n",
              "      <td>2753</td>\n",
              "      <td>92</td>\n",
              "    </tr>\n",
              "    <tr>\n",
              "      <th>4</th>\n",
              "      <td>1989</td>\n",
              "      <td>Jordan,Michael</td>\n",
              "      <td>25</td>\n",
              "      <td>2633</td>\n",
              "      <td>27</td>\n",
              "    </tr>\n",
              "    <tr>\n",
              "      <th>5</th>\n",
              "      <td>2014</td>\n",
              "      <td>Durant,Kevin</td>\n",
              "      <td>25</td>\n",
              "      <td>2593</td>\n",
              "      <td>192</td>\n",
              "    </tr>\n",
              "    <tr>\n",
              "      <th>6</th>\n",
              "      <td>1991</td>\n",
              "      <td>Jordan,Michael</td>\n",
              "      <td>27</td>\n",
              "      <td>2580</td>\n",
              "      <td>29</td>\n",
              "    </tr>\n",
              "    <tr>\n",
              "      <th>7</th>\n",
              "      <td>1982</td>\n",
              "      <td>Gervin,George</td>\n",
              "      <td>29</td>\n",
              "      <td>2551</td>\n",
              "      <td>10</td>\n",
              "    </tr>\n",
              "    <tr>\n",
              "      <th>8</th>\n",
              "      <td>1993</td>\n",
              "      <td>Jordan,Michael</td>\n",
              "      <td>29</td>\n",
              "      <td>2541</td>\n",
              "      <td>81</td>\n",
              "    </tr>\n",
              "    <tr>\n",
              "      <th>9</th>\n",
              "      <td>1990</td>\n",
              "      <td>Malone,Karl</td>\n",
              "      <td>26</td>\n",
              "      <td>2540</td>\n",
              "      <td>16</td>\n",
              "    </tr>\n",
              "  </tbody>\n",
              "</table>\n",
              "</div>\n",
              "      <button class=\"colab-df-convert\" onclick=\"convertToInteractive('df-f854fd4c-c40e-4971-a285-2eb116dbd5a9')\"\n",
              "              title=\"Convert this dataframe to an interactive table.\"\n",
              "              style=\"display:none;\">\n",
              "        \n",
              "  <svg xmlns=\"http://www.w3.org/2000/svg\" height=\"24px\"viewBox=\"0 0 24 24\"\n",
              "       width=\"24px\">\n",
              "    <path d=\"M0 0h24v24H0V0z\" fill=\"none\"/>\n",
              "    <path d=\"M18.56 5.44l.94 2.06.94-2.06 2.06-.94-2.06-.94-.94-2.06-.94 2.06-2.06.94zm-11 1L8.5 8.5l.94-2.06 2.06-.94-2.06-.94L8.5 2.5l-.94 2.06-2.06.94zm10 10l.94 2.06.94-2.06 2.06-.94-2.06-.94-.94-2.06-.94 2.06-2.06.94z\"/><path d=\"M17.41 7.96l-1.37-1.37c-.4-.4-.92-.59-1.43-.59-.52 0-1.04.2-1.43.59L10.3 9.45l-7.72 7.72c-.78.78-.78 2.05 0 2.83L4 21.41c.39.39.9.59 1.41.59.51 0 1.02-.2 1.41-.59l7.78-7.78 2.81-2.81c.8-.78.8-2.07 0-2.86zM5.41 20L4 18.59l7.72-7.72 1.47 1.35L5.41 20z\"/>\n",
              "  </svg>\n",
              "      </button>\n",
              "      \n",
              "  <style>\n",
              "    .colab-df-container {\n",
              "      display:flex;\n",
              "      flex-wrap:wrap;\n",
              "      gap: 12px;\n",
              "    }\n",
              "\n",
              "    .colab-df-convert {\n",
              "      background-color: #E8F0FE;\n",
              "      border: none;\n",
              "      border-radius: 50%;\n",
              "      cursor: pointer;\n",
              "      display: none;\n",
              "      fill: #1967D2;\n",
              "      height: 32px;\n",
              "      padding: 0 0 0 0;\n",
              "      width: 32px;\n",
              "    }\n",
              "\n",
              "    .colab-df-convert:hover {\n",
              "      background-color: #E2EBFA;\n",
              "      box-shadow: 0px 1px 2px rgba(60, 64, 67, 0.3), 0px 1px 3px 1px rgba(60, 64, 67, 0.15);\n",
              "      fill: #174EA6;\n",
              "    }\n",
              "\n",
              "    [theme=dark] .colab-df-convert {\n",
              "      background-color: #3B4455;\n",
              "      fill: #D2E3FC;\n",
              "    }\n",
              "\n",
              "    [theme=dark] .colab-df-convert:hover {\n",
              "      background-color: #434B5C;\n",
              "      box-shadow: 0px 1px 3px 1px rgba(0, 0, 0, 0.15);\n",
              "      filter: drop-shadow(0px 1px 2px rgba(0, 0, 0, 0.3));\n",
              "      fill: #FFFFFF;\n",
              "    }\n",
              "  </style>\n",
              "\n",
              "      <script>\n",
              "        const buttonEl =\n",
              "          document.querySelector('#df-f854fd4c-c40e-4971-a285-2eb116dbd5a9 button.colab-df-convert');\n",
              "        buttonEl.style.display =\n",
              "          google.colab.kernel.accessAllowed ? 'block' : 'none';\n",
              "\n",
              "        async function convertToInteractive(key) {\n",
              "          const element = document.querySelector('#df-f854fd4c-c40e-4971-a285-2eb116dbd5a9');\n",
              "          const dataTable =\n",
              "            await google.colab.kernel.invokeFunction('convertToInteractive',\n",
              "                                                     [key], {});\n",
              "          if (!dataTable) return;\n",
              "\n",
              "          const docLinkHtml = 'Like what you see? Visit the ' +\n",
              "            '<a target=\"_blank\" href=https://colab.research.google.com/notebooks/data_table.ipynb>data table notebook</a>'\n",
              "            + ' to learn more about interactive tables.';\n",
              "          element.innerHTML = '';\n",
              "          dataTable['output_type'] = 'display_data';\n",
              "          await google.colab.output.renderOutput(dataTable, element);\n",
              "          const docLink = document.createElement('div');\n",
              "          docLink.innerHTML = docLinkHtml;\n",
              "          element.appendChild(docLink);\n",
              "        }\n",
              "      </script>\n",
              "    </div>\n",
              "  </div>\n",
              "  "
            ]
          },
          "metadata": {},
          "execution_count": 16
        }
      ]
    },
    {
      "cell_type": "code",
      "source": [
        "print(df.columns)"
      ],
      "metadata": {
        "colab": {
          "base_uri": "https://localhost:8080/"
        },
        "id": "sVOFN2rMWYhi",
        "outputId": "5934839c-c9e9-4cef-e8cc-264f63a75c13"
      },
      "execution_count": null,
      "outputs": [
        {
          "output_type": "stream",
          "name": "stdout",
          "text": [
            "['_c0', 'player', 'pos', 'age', 'team_id', 'g', 'gs', 'mp', 'fg', 'fga', 'fg_pct', 'fg3', 'fg3a', 'fg3_pct', 'fg2', 'fg2a', 'fg2_pct', 'efg_pct', 'ft', 'fta', 'ft_pct', 'orb', 'drb', 'trb', 'ast', 'stl', 'blk', 'tov', 'pf', 'pts', 'yr']\n"
          ]
        }
      ]
    },
    {
      "cell_type": "markdown",
      "source": [
        "Fg - field goals per 36 minutes\n"
      ],
      "metadata": {
        "id": "MOtHlBiMhE0F"
      }
    },
    {
      "cell_type": "code",
      "source": [
        "# Industry Standart To analyse field goals of three attempts per 36 Minutes \n",
        "# Calculating Average Number of 3 pointers by a player for Each Season \n",
        "\n",
        "# We use Sql Context to sort the data out \n",
        "fg3a = sqlContext.sql('''SELECT yr,\n",
        "                                SUM(fg3a)/sum(mp)*36 as fg3a_36Min\n",
        "                                FROM SeasonsTable GROUP BY yr \n",
        "                                ORDER BY yr''')"
      ],
      "metadata": {
        "id": "BB79m6BxWb4S"
      },
      "execution_count": null,
      "outputs": []
    },
    {
      "cell_type": "code",
      "source": [
        "print(fg3a.toPandas())"
      ],
      "metadata": {
        "colab": {
          "base_uri": "https://localhost:8080/"
        },
        "id": "hYKCJ2FGX4yH",
        "outputId": "865db830-7682-4e1d-cd79-54e522e38a09"
      },
      "execution_count": null,
      "outputs": [
        {
          "output_type": "stream",
          "name": "stdout",
          "text": [
            "      yr  fg3a_36Min\n",
            "0   1980    0.890373\n",
            "1   1981    0.463713\n",
            "2   1982    0.386214\n",
            "3   1983    0.360501\n",
            "4   1984    0.401499\n",
            "5   1985    0.525643\n",
            "6   1986    0.558114\n",
            "7   1987    0.759096\n",
            "8   1988    0.838031\n",
            "9   1989    1.060706\n",
            "10  1990    1.048730\n",
            "11  1991    1.140319\n",
            "12  1992    1.198594\n",
            "13  1993    1.422610\n",
            "14  1994    1.578435\n",
            "15  1995    2.445009\n",
            "16  1996    2.509720\n",
            "17  1997    2.708351\n",
            "18  1998    2.116324\n",
            "19  1999    2.223769\n",
            "20  2000    2.233470\n",
            "21  2001    2.167104\n",
            "22  2002    2.436838\n",
            "23  2003    2.451621\n",
            "24  2004    2.427012\n",
            "25  2005    2.625455\n",
            "26  2006    2.658149\n",
            "27  2007    2.769910\n",
            "28  2008    2.885697\n",
            "29  2009    2.948457\n",
            "30  2010    2.876176\n",
            "31  2011    3.017326\n",
            "32  2012    3.010563\n",
            "33  2013    3.237350\n",
            "34  2014    3.454093\n",
            "35  2015    3.623507\n",
            "36  2016    3.774527\n"
          ]
        }
      ]
    },
    {
      "cell_type": "markdown",
      "source": [
        "We see the average 3 point attemps by a player [per 36 minutes] throughout the years \n",
        "\n"
      ],
      "metadata": {
        "id": "IX1KR0rZhM3g"
      }
    },
    {
      "cell_type": "code",
      "source": [
        "from matplotlib import pyplot as plt \n",
        "import seaborn as sns\n",
        "plt.style.use('fivethirtyeight')\n",
        "\n",
        "_df = fg3a.toPandas()\n",
        "plt.plot(_df.yr,_df.fg3a_36Min, color = '#00a79c')\n",
        "plt.xlabel('Year')\n",
        "_=plt.title('Player average 3-point attempts (per 36 minutes)')\n",
        "plt.annotate('3 pointer introduced', xy=(1980, .5), xytext=(1981, 1.1), fontsize = 12,\n",
        "            arrowprops=dict(facecolor='grey', shrink=0.05, linewidth = 1))\n",
        "plt.annotate('NBA moved in 3-point line', xy=(1996, 2.4), xytext=(1991.5, 2.7), fontsize = 12,\n",
        "            arrowprops=dict(facecolor='grey', shrink=0.05, linewidth = 2))\n",
        "plt.annotate('NBA moved back\\n3-point line', xy=(1998, 2.), xytext=(1998.5, 2.4), fontsize = 12, arrowprops=dict(facecolor='grey', shrink=0.05, linewidth = 2))\n"
      ],
      "metadata": {
        "colab": {
          "base_uri": "https://localhost:8080/",
          "height": 342
        },
        "id": "ai55hxIvX6MI",
        "outputId": "f4d365b8-6bd9-46ae-a3e5-fde3a24f9749"
      },
      "execution_count": null,
      "outputs": [
        {
          "output_type": "execute_result",
          "data": {
            "text/plain": [
              "Text(1998.5, 2.4, 'NBA moved back\\n3-point line')"
            ]
          },
          "metadata": {},
          "execution_count": 20
        },
        {
          "output_type": "display_data",
          "data": {
            "text/plain": [
              "<Figure size 432x288 with 1 Axes>"
            ],
            "image/png": "[encoded data removed]"
          },
          "metadata": {}
        }
      ]
    },
    {
      "cell_type": "markdown",
      "source": [
        "We can see a steady rise in Number of 3 Point Attempts Since the shot's introduction in 1979-80 season and also a bit of decrease in the number in mid 90's when NBA moved the line in a few feet "
      ],
      "metadata": {
        "id": "21AKh7mZYnaX"
      }
    },
    {
      "cell_type": "markdown",
      "source": [
        "# Using Linear Regression To predict where the 3 point attempts by players will go for the next 5 years "
      ],
      "metadata": {
        "id": "ROkUTE6ubZq1"
      }
    },
    {
      "cell_type": "code",
      "source": [
        "# Using Linear Regression Model to See Where this Curve Goes for the Next 5 Years . "
      ],
      "metadata": {
        "id": "VRKCsSiiYQqw"
      },
      "execution_count": null,
      "outputs": []
    },
    {
      "cell_type": "markdown",
      "source": [
        "VectorAssembler - A feature transformer that merges multiple columns into a vector column"
      ],
      "metadata": {
        "id": "xb28T8VqiSnh"
      }
    },
    {
      "cell_type": "code",
      "source": [
        "# Transforming our data using Vector Assembler Function to a single columns where Each Row of Datafraom Containts A Feature Vector \n",
        "from pyspark.ml.feature import VectorAssembler\n",
        "t = VectorAssembler(inputCols=['yr'], outputCol = 'features')\n",
        "training = t.transform(fg3a)\\\n",
        "            .withColumn('yr',fg3a.yr)\\\n",
        "            .withColumn('label',fg3a.fg3a_36Min)\n",
        "training.toPandas().head()"
      ],
      "metadata": {
        "colab": {
          "base_uri": "https://localhost:8080/",
          "height": 206
        },
        "id": "1P8wg6WDZOEg",
        "outputId": "36dd98b0-6d81-49bd-9caa-3811327ddd92"
      },
      "execution_count": null,
      "outputs": [
        {
          "output_type": "execute_result",
          "data": {
            "text/plain": [
              "     yr  fg3a_36Min  features     label\n",
              "0  1980    0.890373  [1980.0]  0.890373\n",
              "1  1981    0.463713  [1981.0]  0.463713\n",
              "2  1982    0.386214  [1982.0]  0.386214\n",
              "3  1983    0.360501  [1983.0]  0.360501\n",
              "4  1984    0.401499  [1984.0]  0.401499"
            ],
            "text/html": [
              "\n",
              "  <div id=\"df-3626c025-957b-4538-adc1-3b8b025d9b54\">\n",
              "    <div class=\"colab-df-container\">\n",
              "      <div>\n",
              "<style scoped>\n",
              "    .dataframe tbody tr th:only-of-type {\n",
              "        vertical-align: middle;\n",
              "    }\n",
              "\n",
              "    .dataframe tbody tr th {\n",
              "        vertical-align: top;\n",
              "    }\n",
              "\n",
              "    .dataframe thead th {\n",
              "        text-align: right;\n",
              "    }\n",
              "</style>\n",
              "<table border=\"1\" class=\"dataframe\">\n",
              "  <thead>\n",
              "    <tr style=\"text-align: right;\">\n",
              "      <th></th>\n",
              "      <th>yr</th>\n",
              "      <th>fg3a_36Min</th>\n",
              "      <th>features</th>\n",
              "      <th>label</th>\n",
              "    </tr>\n",
              "  </thead>\n",
              "  <tbody>\n",
              "    <tr>\n",
              "      <th>0</th>\n",
              "      <td>1980</td>\n",
              "      <td>0.890373</td>\n",
              "      <td>[1980.0]</td>\n",
              "      <td>0.890373</td>\n",
              "    </tr>\n",
              "    <tr>\n",
              "      <th>1</th>\n",
              "      <td>1981</td>\n",
              "      <td>0.463713</td>\n",
              "      <td>[1981.0]</td>\n",
              "      <td>0.463713</td>\n",
              "    </tr>\n",
              "    <tr>\n",
              "      <th>2</th>\n",
              "      <td>1982</td>\n",
              "      <td>0.386214</td>\n",
              "      <td>[1982.0]</td>\n",
              "      <td>0.386214</td>\n",
              "    </tr>\n",
              "    <tr>\n",
              "      <th>3</th>\n",
              "      <td>1983</td>\n",
              "      <td>0.360501</td>\n",
              "      <td>[1983.0]</td>\n",
              "      <td>0.360501</td>\n",
              "    </tr>\n",
              "    <tr>\n",
              "      <th>4</th>\n",
              "      <td>1984</td>\n",
              "      <td>0.401499</td>\n",
              "      <td>[1984.0]</td>\n",
              "      <td>0.401499</td>\n",
              "    </tr>\n",
              "  </tbody>\n",
              "</table>\n",
              "</div>\n",
              "      <button class=\"colab-df-convert\" onclick=\"convertToInteractive('df-3626c025-957b-4538-adc1-3b8b025d9b54')\"\n",
              "              title=\"Convert this dataframe to an interactive table.\"\n",
              "              style=\"display:none;\">\n",
              "        \n",
              "  <svg xmlns=\"http://www.w3.org/2000/svg\" height=\"24px\"viewBox=\"0 0 24 24\"\n",
              "       width=\"24px\">\n",
              "    <path d=\"M0 0h24v24H0V0z\" fill=\"none\"/>\n",
              "    <path d=\"M18.56 5.44l.94 2.06.94-2.06 2.06-.94-2.06-.94-.94-2.06-.94 2.06-2.06.94zm-11 1L8.5 8.5l.94-2.06 2.06-.94-2.06-.94L8.5 2.5l-.94 2.06-2.06.94zm10 10l.94 2.06.94-2.06 2.06-.94-2.06-.94-.94-2.06-.94 2.06-2.06.94z\"/><path d=\"M17.41 7.96l-1.37-1.37c-.4-.4-.92-.59-1.43-.59-.52 0-1.04.2-1.43.59L10.3 9.45l-7.72 7.72c-.78.78-.78 2.05 0 2.83L4 21.41c.39.39.9.59 1.41.59.51 0 1.02-.2 1.41-.59l7.78-7.78 2.81-2.81c.8-.78.8-2.07 0-2.86zM5.41 20L4 18.59l7.72-7.72 1.47 1.35L5.41 20z\"/>\n",
              "  </svg>\n",
              "      </button>\n",
              "      \n",
              "  <style>\n",
              "    .colab-df-container {\n",
              "      display:flex;\n",
              "      flex-wrap:wrap;\n",
              "      gap: 12px;\n",
              "    }\n",
              "\n",
              "    .colab-df-convert {\n",
              "      background-color: #E8F0FE;\n",
              "      border: none;\n",
              "      border-radius: 50%;\n",
              "      cursor: pointer;\n",
              "      display: none;\n",
              "      fill: #1967D2;\n",
              "      height: 32px;\n",
              "      padding: 0 0 0 0;\n",
              "      width: 32px;\n",
              "    }\n",
              "\n",
              "    .colab-df-convert:hover {\n",
              "      background-color: #E2EBFA;\n",
              "      box-shadow: 0px 1px 2px rgba(60, 64, 67, 0.3), 0px 1px 3px 1px rgba(60, 64, 67, 0.15);\n",
              "      fill: #174EA6;\n",
              "    }\n",
              "\n",
              "    [theme=dark] .colab-df-convert {\n",
              "      background-color: #3B4455;\n",
              "      fill: #D2E3FC;\n",
              "    }\n",
              "\n",
              "    [theme=dark] .colab-df-convert:hover {\n",
              "      background-color: #434B5C;\n",
              "      box-shadow: 0px 1px 3px 1px rgba(0, 0, 0, 0.15);\n",
              "      filter: drop-shadow(0px 1px 2px rgba(0, 0, 0, 0.3));\n",
              "      fill: #FFFFFF;\n",
              "    }\n",
              "  </style>\n",
              "\n",
              "      <script>\n",
              "        const buttonEl =\n",
              "          document.querySelector('#df-3626c025-957b-4538-adc1-3b8b025d9b54 button.colab-df-convert');\n",
              "        buttonEl.style.display =\n",
              "          google.colab.kernel.accessAllowed ? 'block' : 'none';\n",
              "\n",
              "        async function convertToInteractive(key) {\n",
              "          const element = document.querySelector('#df-3626c025-957b-4538-adc1-3b8b025d9b54');\n",
              "          const dataTable =\n",
              "            await google.colab.kernel.invokeFunction('convertToInteractive',\n",
              "                                                     [key], {});\n",
              "          if (!dataTable) return;\n",
              "\n",
              "          const docLinkHtml = 'Like what you see? Visit the ' +\n",
              "            '<a target=\"_blank\" href=https://colab.research.google.com/notebooks/data_table.ipynb>data table notebook</a>'\n",
              "            + ' to learn more about interactive tables.';\n",
              "          element.innerHTML = '';\n",
              "          dataTable['output_type'] = 'display_data';\n",
              "          await google.colab.output.renderOutput(dataTable, element);\n",
              "          const docLink = document.createElement('div');\n",
              "          docLink.innerHTML = docLinkHtml;\n",
              "          element.appendChild(docLink);\n",
              "        }\n",
              "      </script>\n",
              "    </div>\n",
              "  </div>\n",
              "  "
            ]
          },
          "metadata": {},
          "execution_count": 22
        }
      ]
    },
    {
      "cell_type": "code",
      "source": [
        "lr = LinearRegression(maxIter=10)\n",
        "model = lr.fit(training)"
      ],
      "metadata": {
        "id": "MzSvxJYtbXhl"
      },
      "execution_count": null,
      "outputs": []
    },
    {
      "cell_type": "code",
      "source": [
        "from pyspark.sql.types import Row\n",
        "\n",
        "sc = spark.sparkContext # Spark Context\n",
        "\n",
        "# apply model for the 1979-80 season thru 2020-21 season\n",
        "training_yrs = training.select('yr').rdd.map(lambda x: x[0]).collect()\n",
        "training_y = training.select('fg3a_36Min').rdd.map(lambda x: x[0]).collect()\n",
        "prediction_yrs = [2017, 2018, 2019, 2020, 2021]\n",
        "all_yrs = training_yrs + prediction_yrs\n",
        "\n",
        "# built testing DataFrame\n",
        "test_rdd = sc.parallelize(all_yrs)\n",
        "row = Row('yr')\n",
        "all_years_features = t.transform(test_rdd.map(row).toDF())\n",
        "\n",
        "# apply linear regression model\n",
        "df_results = model.transform(all_years_features).toPandas()"
      ],
      "metadata": {
        "id": "Ao13IWK3Zii3"
      },
      "execution_count": null,
      "outputs": []
    },
    {
      "cell_type": "code",
      "source": [
        "# Plotting the result : \n",
        "plt.plot(df_results.yr,df_results.prediction, linewidth = 2, linestyle = '--',color = '#fc4f30', label = 'L2 Fit')\n",
        "plt.plot(training_yrs, training_y, color = '#00a79c', label = None)\n",
        "plt.xlabel('Year')\n",
        "plt.ylabel('Number of attempts')\n",
        "plt.legend(loc = 4)\n",
        "_=plt.title('Player average 3-point attempts (per 36 minutes)')\n",
        "plt.tight_layout()\n",
        "plt.savefig('model_prediction.png')"
      ],
      "metadata": {
        "colab": {
          "base_uri": "https://localhost:8080/",
          "height": 289
        },
        "id": "7_OGjy83Zyvq",
        "outputId": "b459c7dd-18cf-40bd-b83a-7a8840efc818"
      },
      "execution_count": null,
      "outputs": [
        {
          "output_type": "display_data",
          "data": {
            "text/plain": [
              "<Figure size 432x288 with 1 Axes>"
            ],
            "image/png": "[encoded data removed]"
          },
          "metadata": {}
        }
      ]
    },
    {
      "cell_type": "markdown",
      "source": [
        "# K- means clustering "
      ],
      "metadata": {
        "id": "ysDtIdFy29_J"
      }
    },
    {
      "cell_type": "code",
      "source": [
        "df.show()"
      ],
      "metadata": {
        "colab": {
          "base_uri": "https://localhost:8080/"
        },
        "id": "H55LSr35Dobf",
        "outputId": "0fa6441f-30d5-444e-d406-deb9ca09e71a"
      },
      "execution_count": null,
      "outputs": [
        {
          "output_type": "stream",
          "name": "stdout",
          "text": [
            "+---+----------------+-----+---+-------+---+---+----+---+----+------+---+----+-------+---+----+-------+-------+---+---+------+---+---+---+---+---+---+---+---+----+----+\n",
            "|_c0|          player|  pos|age|team_id|  g| gs|  mp| fg| fga|fg_pct|fg3|fg3a|fg3_pct|fg2|fg2a|fg2_pct|efg_pct| ft|fta|ft_pct|orb|drb|trb|ast|stl|blk|tov| pf| pts|  yr|\n",
            "+---+----------------+-----+---+-------+---+---+----+---+----+------+---+----+-------+---+----+-------+-------+---+---+------+---+---+---+---+---+---+---+---+----+----+\n",
            "|  3|  Archibald,Tiny|   PG| 31|    BOS| 80| 80|2864|383| 794| 0.482|  4|  18|  0.222|379| 776|  0.488|  0.485|361|435|  0.83| 59|138|197|671|106| 10|242|218|1131|1980|\n",
            "| 21|      Bird,Larry|   PF| 23|    BOS| 82| 82|2955|693|1463| 0.474| 58| 143|  0.406|635|1320|  0.481|  0.494|301|360| 0.836|216|636|852|370|143| 53|263|279|1745|1980|\n",
            "| 54|       Carr,M.L.|   SF| 29|    BOS| 82|  7|1994|362| 763| 0.474| 12|  41|  0.293|350| 722|  0.485|  0.482|178|241| 0.739|106|224|330|156|120| 36|143|214| 914|1980|\n",
            "| 59|      Chaney,Don|   SG| 33|    BOS| 60|  0| 523| 67| 189| 0.354|  1|   6|  0.167| 66| 183|  0.361|  0.357| 32| 42| 0.762| 31| 42| 73| 38| 31| 11| 33| 80| 167|1980|\n",
            "| 75|     Cowens,Dave|    C| 31|    BOS| 66| 55|2159|422| 932| 0.453|  1|  12|  0.083|421| 920|  0.458|  0.453| 95|122| 0.779|126|408|534|206| 69| 61|108|216| 940|1980|\n",
            "|108|      Ford,Chris|   SG| 31|    BOS| 73| 73|2115|330| 709| 0.465| 70| 164|  0.427|260| 545|  0.477|  0.515| 86|114| 0.754| 77|104|181|215|111| 27|105|178| 816|1980|\n",
            "|140|Henderson,Gerald|   PG| 24|    BOS| 76|  2|1061|191| 382|   0.5|  2|   6|  0.333|189| 376|  0.503|  0.503| 89|129|  0.69| 37| 46| 83|147| 45| 15|109| 96| 473|1980|\n",
            "|174|    Judkins,Jeff|   SF| 23|    BOS| 65|  0| 674|139| 276| 0.504| 11|  27|  0.407|128| 249|  0.514|  0.524| 62| 76| 0.816| 32| 34| 66| 47| 29|  5| 49| 91| 351|1980|\n",
            "|220|   Maravich,Pete|   SG| 32|    TOT| 43|  4| 964|244| 543| 0.449| 10|  15|  0.667|234| 528|  0.443|  0.459| 91|105| 0.867| 17| 61| 78| 83| 24|  6| 82| 79| 589|1980|\n",
            "|222|   Maravich,Pete|   SG| 32|    BOS| 26|  4| 442|123| 249| 0.494|  3|   4|   0.75|120| 245|   0.49|    0.5| 50| 55| 0.909| 10| 28| 38| 29|  9|  2| 37| 49| 299|1980|\n",
            "|277|      Robey,Rick|    C| 24|    BOS| 82| 27|1918|379| 727| 0.521|  0|   1|    0.0|379| 726|  0.522|  0.521|184|269| 0.684|209|321|530| 92| 53| 15|151|244| 942|1980|\n",
            "|  6|  Archibald,Tiny|   PG| 32|    BOS| 80| 72|2820|382| 766| 0.499|  0|   9|    0.0|382| 757|  0.505|  0.499|342|419| 0.816| 36|140|176|618| 75| 18|265|201|1106|1981|\n",
            "| 15|      Bird,Larry|   PF| 24|    BOS| 82| 82|3239|719|1503| 0.478| 20|  74|   0.27|699|1429|  0.489|  0.485|283|328| 0.863|191|704|895|451|161| 63|289|239|1741|1981|\n",
            "| 43|       Carr,M.L.|   SF| 30|    BOS| 41|  7| 655| 97| 216| 0.449|  1|  14|  0.071| 96| 202|  0.475|  0.451| 53| 67| 0.791| 26| 57| 83| 56| 30| 18| 47| 74| 248|1981|\n",
            "| 84|    Duerod,Terry|SG-SF| 24|    TOT| 50|  0| 451|104| 234| 0.444|  8|  16|    0.5| 96| 218|   0.44|  0.462| 31| 41| 0.756| 17| 27| 44| 36| 17|  4| 35| 27| 247|1981|\n",
            "| 86|    Duerod,Terry|   SG| 24|    BOS| 32|  0| 114| 30|  73| 0.411|  6|  10|    0.6| 24|  63|  0.381|  0.452| 13| 14| 0.929|  2|  3|  5|  6|  5|  0| 10|  8|  79|1981|\n",
            "| 97|      Ford,Chris|   SG| 32|    BOS| 82| 75|2723|314| 707| 0.444| 36| 109|   0.33|278| 598|  0.465|   0.47| 64| 87| 0.736| 72| 91|163|295|100| 23|127|212| 728|1981|\n",
            "|132|Henderson,Gerald|   PG| 25|    BOS| 82| 10|1608|261| 579| 0.451|  1|  16|  0.063|260| 563|  0.462|  0.452|113|157|  0.72| 43| 89|132|213| 79| 12|160|177| 636|1981|\n",
            "|189|   Kreklow,Wayne|   SG| 24|    BOS| 25|  0| 100| 11|  47| 0.234|  1|   4|   0.25| 10|  43|  0.233|  0.245|  7| 10|   0.7|  2| 10| 12|  9|  2|  1| 10| 20|  30|1981|\n",
            "|217|  Maxwell,Cedric|   SF| 25|    BOS| 81| 81|2730|441| 750| 0.588|  0|   1|    0.0|441| 749|  0.589|  0.588|352|450| 0.782|222|303|525|219| 79| 68|180|256|1234|1981|\n",
            "+---+----------------+-----+---+-------+---+---+----+---+----+------+---+----+-------+---+----+-------+-------+---+---+------+---+---+---+---+---+---+---+---+----+----+\n",
            "only showing top 20 rows\n",
            "\n"
          ]
        }
      ]
    },
    {
      "cell_type": "code",
      "source": [],
      "metadata": {
        "id": "RJAmLdrXDtqw"
      },
      "execution_count": null,
      "outputs": []
    },
    {
      "cell_type": "markdown",
      "source": [
        "Using Sql to group by player names and using it for k means \n"
      ],
      "metadata": {
        "id": "NOiMyrT94OAx"
      }
    },
    {
      "cell_type": "code",
      "source": [
        "df_groupbyname = sqlContext.sql('''SELECT player as Player_Name,\n",
        "                                          Sum(g) as Games_played ,Sum(mp) as Minutes_played,Sum(fga) as Field_Goals,Sum(ft) as Free_throws,Sum(pts) as Total_Points ,Sum(fta) as FreeThrowAttempts\n",
        "                                          FROM SeasonsTable\n",
        "                                          GROUP BY player\n",
        "                                ''')\n"
      ],
      "metadata": {
        "id": "jyx97_p0iq5u"
      },
      "execution_count": null,
      "outputs": []
    },
    {
      "cell_type": "code",
      "source": [
        "df_groupbyname.show(10)"
      ],
      "metadata": {
        "id": "AXj52RERiq9H",
        "colab": {
          "base_uri": "https://localhost:8080/"
        },
        "outputId": "f68bc156-b816-45db-f904-9aad5d2d2c67"
      },
      "execution_count": null,
      "outputs": [
        {
          "output_type": "stream",
          "name": "stdout",
          "text": [
            "+-----------------+------------+--------------+-----------+-----------+------------+-----------------+\n",
            "|      Player_Name|Games_played|Minutes_played|Field_Goals|Free_throws|Total_Points|FreeThrowAttempts|\n",
            "+-----------------+------------+--------------+-----------+-----------+------------+-----------------+\n",
            "|      Ainge,Danny|        1115|         30132|      10956|       1881|       13245|             2220|\n",
            "|  Pressley,Harold|         299|          6802|       2458|        344|        2702|              442|\n",
            "|  Garland,Winston|         590|         15153|       5017|       1004|        5373|             1209|\n",
            "|     Oliver,Jimmy|          75|           835|        325|         44|         323|               57|\n",
            "|     Brown,Marcus|          27|           229|         84|         15|          92|               21|\n",
            "|    Byars,Derrick|           2|            37|         11|          4|          10|                4|\n",
            "| McCullough,Chris|          24|           362|        109|         11|         112|               23|\n",
            "|      Boswell,Tom|          38|           261|         52|         16|          73|               21|\n",
            "|    Johnson,Steve|         117|          2709|       1004|        327|        1405|              501|\n",
            "|Hughes,Alfredrick|          68|           866|        372|         49|         356|               84|\n",
            "+-----------------+------------+--------------+-----------+-----------+------------+-----------------+\n",
            "only showing top 10 rows\n",
            "\n"
          ]
        }
      ]
    },
    {
      "cell_type": "code",
      "source": [
        "df_groupbyname.columns"
      ],
      "metadata": {
        "id": "wuGt5_S3irAN",
        "colab": {
          "base_uri": "https://localhost:8080/"
        },
        "outputId": "5aee5f5c-8150-42d5-8dbf-64a4b65b1d4a"
      },
      "execution_count": null,
      "outputs": [
        {
          "output_type": "execute_result",
          "data": {
            "text/plain": [
              "['Player_Name',\n",
              " 'Games_played',\n",
              " 'Minutes_played',\n",
              " 'Field_Goals',\n",
              " 'Free_throws',\n",
              " 'Total_Points',\n",
              " 'FreeThrowAttempts']"
            ]
          },
          "metadata": {},
          "execution_count": 39
        }
      ]
    },
    {
      "cell_type": "code",
      "source": [
        "input_cols = ['Games_played','Minutes_played','Field_Goals','Free_throws','Total_Points','FreeThrowAttempts']"
      ],
      "metadata": {
        "id": "yrLrcEK6irDQ"
      },
      "execution_count": null,
      "outputs": []
    },
    {
      "cell_type": "code",
      "source": [
        "vec_assembler = VectorAssembler(inputCols = input_cols,outputCol = \"features\")"
      ],
      "metadata": {
        "id": "K_ntL6kBirF9"
      },
      "execution_count": null,
      "outputs": []
    },
    {
      "cell_type": "code",
      "source": [
        "final_data = vec_assembler.transform(df_groupbyname)"
      ],
      "metadata": {
        "id": "JJdny8HFirIw"
      },
      "execution_count": null,
      "outputs": []
    },
    {
      "cell_type": "code",
      "source": [
        "final_data.show(10)"
      ],
      "metadata": {
        "colab": {
          "base_uri": "https://localhost:8080/"
        },
        "id": "YN72V07dJL68",
        "outputId": "a1f06ac1-1b3c-471b-8dbd-413df7f3d1f8"
      },
      "execution_count": null,
      "outputs": [
        {
          "output_type": "stream",
          "name": "stdout",
          "text": [
            "+-----------------+------------+--------------+-----------+-----------+------------+-----------------+--------------------+\n",
            "|      Player_Name|Games_played|Minutes_played|Field_Goals|Free_throws|Total_Points|FreeThrowAttempts|            features|\n",
            "+-----------------+------------+--------------+-----------+-----------+------------+-----------------+--------------------+\n",
            "|      Ainge,Danny|        1115|         30132|      10956|       1881|       13245|             2220|[1115.0,30132.0,1...|\n",
            "|  Pressley,Harold|         299|          6802|       2458|        344|        2702|              442|[299.0,6802.0,245...|\n",
            "|  Garland,Winston|         590|         15153|       5017|       1004|        5373|             1209|[590.0,15153.0,50...|\n",
            "|     Oliver,Jimmy|          75|           835|        325|         44|         323|               57|[75.0,835.0,325.0...|\n",
            "|     Brown,Marcus|          27|           229|         84|         15|          92|               21|[27.0,229.0,84.0,...|\n",
            "|    Byars,Derrick|           2|            37|         11|          4|          10|                4|[2.0,37.0,11.0,4....|\n",
            "| McCullough,Chris|          24|           362|        109|         11|         112|               23|[24.0,362.0,109.0...|\n",
            "|      Boswell,Tom|          38|           261|         52|         16|          73|               21|[38.0,261.0,52.0,...|\n",
            "|    Johnson,Steve|         117|          2709|       1004|        327|        1405|              501|[117.0,2709.0,100...|\n",
            "|Hughes,Alfredrick|          68|           866|        372|         49|         356|               84|[68.0,866.0,372.0...|\n",
            "+-----------------+------------+--------------+-----------+-----------+------------+-----------------+--------------------+\n",
            "only showing top 10 rows\n",
            "\n"
          ]
        }
      ]
    },
    {
      "cell_type": "code",
      "source": [
        "from pyspark.ml.clustering import KMeans \n",
        "from pyspark.ml.evaluation import ClusteringEvaluator\n",
        "\n"
      ],
      "metadata": {
        "id": "S5ofW4KfJQWW"
      },
      "execution_count": null,
      "outputs": []
    },
    {
      "cell_type": "code",
      "source": [
        "kmeans = KMeans(featuresCol=\"features\",k = 4)\n",
        "model = kmeans.fit(final_data)"
      ],
      "metadata": {
        "id": "bN9hrY58JQY-"
      },
      "execution_count": null,
      "outputs": []
    },
    {
      "cell_type": "code",
      "source": [
        "model.transform(final_data).groupBy(\"prediction\").count().show()"
      ],
      "metadata": {
        "colab": {
          "base_uri": "https://localhost:8080/"
        },
        "id": "Znj1NZSLJQbv",
        "outputId": "0661f633-7b22-48fc-cc1a-53b0650c0c07"
      },
      "execution_count": null,
      "outputs": [
        {
          "output_type": "stream",
          "name": "stdout",
          "text": [
            "+----------+-----+\n",
            "|prediction|count|\n",
            "+----------+-----+\n",
            "|         1|  148|\n",
            "|         3|  505|\n",
            "|         2|  308|\n",
            "|         0| 1288|\n",
            "+----------+-----+\n",
            "\n"
          ]
        }
      ]
    },
    {
      "cell_type": "code",
      "source": [
        "predictions = model.transform(final_data)\n",
        "\n"
      ],
      "metadata": {
        "id": "-2RPVruNJQeV"
      },
      "execution_count": null,
      "outputs": []
    },
    {
      "cell_type": "code",
      "source": [
        "predictions.show()"
      ],
      "metadata": {
        "colab": {
          "base_uri": "https://localhost:8080/"
        },
        "id": "-H71XYz3JQhG",
        "outputId": "65091a0a-c505-4ee2-9f53-706144dc77e6"
      },
      "execution_count": null,
      "outputs": [
        {
          "output_type": "stream",
          "name": "stdout",
          "text": [
            "+-----------------+------------+--------------+-----------+-----------+------------+-----------------+--------------------+----------+\n",
            "|      Player_Name|Games_played|Minutes_played|Field_Goals|Free_throws|Total_Points|FreeThrowAttempts|            features|prediction|\n",
            "+-----------------+------------+--------------+-----------+-----------+------------+-----------------+--------------------+----------+\n",
            "|      Ainge,Danny|        1115|         30132|      10956|       1881|       13245|             2220|[1115.0,30132.0,1...|         1|\n",
            "|  Pressley,Harold|         299|          6802|       2458|        344|        2702|              442|[299.0,6802.0,245...|         3|\n",
            "|  Garland,Winston|         590|         15153|       5017|       1004|        5373|             1209|[590.0,15153.0,50...|         3|\n",
            "|     Oliver,Jimmy|          75|           835|        325|         44|         323|               57|[75.0,835.0,325.0...|         0|\n",
            "|     Brown,Marcus|          27|           229|         84|         15|          92|               21|[27.0,229.0,84.0,...|         0|\n",
            "|    Byars,Derrick|           2|            37|         11|          4|          10|                4|[2.0,37.0,11.0,4....|         0|\n",
            "| McCullough,Chris|          24|           362|        109|         11|         112|               23|[24.0,362.0,109.0...|         0|\n",
            "|      Boswell,Tom|          38|           261|         52|         16|          73|               21|[38.0,261.0,52.0,...|         0|\n",
            "|    Johnson,Steve|         117|          2709|       1004|        327|        1405|              501|[117.0,2709.0,100...|         0|\n",
            "|Hughes,Alfredrick|          68|           866|        372|         49|         356|               84|[68.0,866.0,372.0...|         0|\n",
            "|    Dampier,Erick|         518|         12831|       3282|       1036|        4244|             1620|[518.0,12831.0,32...|         3|\n",
            "|      Garrity,Pat|         550|         11040|       3540|        428|        4015|              531|[550.0,11040.0,35...|         3|\n",
            "|   McPherson,Paul|         110|          1190|        432|         84|         524|              116|[110.0,1190.0,432...|         0|\n",
            "|   Rakocevic,Igor|          42|           244|         58|         29|          78|               36|[42.0,244.0,58.0,...|         0|\n",
            "|     Brooks,Aaron|         725|         16156|       6580|       1124|        7507|             1331|[725.0,16156.0,65...|         2|\n",
            "|       Smith,Greg|          70|          1110|        274|         81|         421|              130|[70.0,1110.0,274....|         0|\n",
            "|  Nedovic,Nemanja|          24|           142|         39|          7|          26|                8|[24.0,142.0,39.0,...|         0|\n",
            "|       Ingles,Joe|         160|          2914|        645|         43|         738|               58|[160.0,2914.0,645...|         0|\n",
            "|    Hezonja,Mario|          79|          1413|        418|         49|         478|               54|[79.0,1413.0,418....|         0|\n",
            "|Valentine,Darnell|         682|         15612|       4948|       1503|        5856|             1919|[682.0,15612.0,49...|         2|\n",
            "+-----------------+------------+--------------+-----------+-----------+------------+-----------------+--------------------+----------+\n",
            "only showing top 20 rows\n",
            "\n"
          ]
        }
      ]
    },
    {
      "cell_type": "code",
      "source": [],
      "metadata": {
        "id": "P_6GzQ4CJQj-"
      },
      "execution_count": null,
      "outputs": []
    },
    {
      "cell_type": "code",
      "source": [],
      "metadata": {
        "id": "OSUx0_ZYJQm2"
      },
      "execution_count": null,
      "outputs": []
    },
    {
      "cell_type": "markdown",
      "source": [
        "Seeing what impace the 3- point changes has had on Shot Selection "
      ],
      "metadata": {
        "id": "lWNOc4aSdYsF"
      }
    },
    {
      "cell_type": "code",
      "source": [
        "# df = spark.read\\\n",
        "#           .option('header', 'true')\\\n",
        "#           .option('inferSchema', 'true')\\\n",
        "#           .csv('1000_plus_shot_charts_2011_2016.csv')\n"
      ],
      "metadata": {
        "id": "5AGbkjmWdhq9"
      },
      "execution_count": null,
      "outputs": []
    },
    {
      "cell_type": "code",
      "source": [
        "# Previewing The Data : \n",
        "# df.orderBy('game_date').limit(10).toPandas()\n"
      ],
      "metadata": {
        "id": "ME23tlgZpyQW"
      },
      "execution_count": null,
      "outputs": []
    },
    {
      "cell_type": "markdown",
      "source": [
        "Quering at an Individual Player's Shot selection and visualising it . "
      ],
      "metadata": {
        "id": "lhZT7VQLqO6W"
      }
    },
    {
      "cell_type": "code",
      "source": [
        "# import numpy as np\n",
        "# from nba_utils import plot_shot_chart # custom module based on code from Tjortjoglou\n",
        "# sns.set_style(\"white\")\n",
        " \n",
        "# player = 'Stephen Curry'\n",
        "# yr = '2016'\n",
        "# df_steph = df.filter('''name == \"{player}\"\n",
        "#                         and yr == {yr}\n",
        "#                         and y < 400'''.format(player = player,\n",
        "#                                               yr = yr))\n",
        "# x = np.array([v[0] for v in df_steph.select('x').collect()])\n",
        "# y = np.array([v[0] for v in df_steph.select('y').collect()])\n",
        "# p=plot_shot_chart(x, y, gridsize = 30,\n",
        "#                       kind='hex',\n",
        "#                       label='Steph Curry\\n2016')\n",
        "# p.savefig('Steph_Curry_2016')"
      ],
      "metadata": {
        "id": "elzHQiicp_GP"
      },
      "execution_count": null,
      "outputs": []
    },
    {
      "cell_type": "code",
      "source": [
        "def is_corner_3(xy):\n",
        "    '''Want to identify corner 3 point attempts'''\n",
        "    x,y = xy\n",
        "    return int((abs(x) >= 220) and (y < 92.5))\n",
        "\n",
        "def is_normal_3(xycorner3):\n",
        "    '''Want to identify normal (not corner 3) point attempts'''\n",
        "    x,y,corner3 = xycorner3\n",
        "    radius = 475/2.\n",
        "    y_3pt = np.sqrt(np.square(radius) - np.square(x))\n",
        "    return int(y > max(92.5,y_3pt) and not corner3)"
      ],
      "metadata": {
        "id": "51OrbkqnqmJf"
      },
      "execution_count": null,
      "outputs": []
    },
    {
      "cell_type": "code",
      "source": [
        "from pyspark.sql.functions import array,udf\n",
        "from pyspark.sql.types import IntegerType\n",
        "\n",
        "corner_3_udf = udf(is_corner_3, IntegerType())\n",
        "normal_3_udf = udf(is_normal_3, IntegerType())\n",
        "\n",
        "df2 = df.withColumn('corner_3', corner_3_udf(array([df.x,df.y])))\n",
        "df3 = df2.withColumn('normal_3', normal_3_udf(array([df2.x,df2.y,df2.corner_3])))\n",
        "df4 = df3.withColumn('is_a_3', df3.corner_3 + df3.normal_3) \n",
        "\n",
        "df = df4\n",
        "df.cache()"
      ],
      "metadata": {
        "id": "IaW44QpysUMm"
      },
      "execution_count": null,
      "outputs": []
    },
    {
      "cell_type": "code",
      "source": [
        "from pyspark.sql.functions import mean\n",
        "from nba_utils import draw_3pt_piechart # custom module/function - see GitHub repo\n",
        "\n",
        "# make shot charts for all years\n",
        "midrange_thresh = 8\n",
        "in_half_court = 'y <= 400 and abs(x) <= 250' \n",
        "addl_filter = 'shot_distance > {midrange_thresh}'.format(midrange_thresh = midrange_thresh)\n",
        "for yr in range(2011,2016+1):\n",
        "    df_yr = df.filter('''{in_half_court}\n",
        "                         and yr == {yr}\n",
        "                         and {addl_filter}'''.format(in_half_court = in_half_court,\n",
        "                                                     yr = yr,\n",
        "                                                     addl_filter = addl_filter))\n",
        "    x = np.array([v[0] for v in df_yr.select('x').collect()])\n",
        "    y = np.array([v[0] for v in df_yr.select('y').collect()])\n",
        "    p = plot_shot_chart(x,y, gridsize = 30, kind = 'kde', label = yr)\n",
        "    p.fig.suptitle('Evolution of the 3 point shot', x = .19, y = 0.86, size = 20, fontweight= 'bold')\n",
        "    \n",
        "    per_3 = df_yr.select(mean(df_yr.is_a_3)).take(1)[0][0]\n",
        "    per_midrange = 1 - per_3\n",
        "    \n",
        "    \n",
        "    p.savefig('results/all_years/{}.png'.format(yr))\n",
        "    plt.close()"
      ],
      "metadata": {
        "id": "870z2GmpsWRO"
      },
      "execution_count": null,
      "outputs": []
    },
    {
      "cell_type": "code",
      "source": [],
      "metadata": {
        "id": "XbLG8TBssYVu"
      },
      "execution_count": null,
      "outputs": []
    }
  ]
}